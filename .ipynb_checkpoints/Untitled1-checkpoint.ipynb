{
 "cells": [
  {
   "cell_type": "code",
   "execution_count": 1,
   "metadata": {},
   "outputs": [],
   "source": [
    "def get_target_setting(controlDict):\n",
    "    # do something to calculate target setting for each orifice/pump\n",
    "    # Assign target_setting as 'action' in each control point dict\n",
    "    \n",
    "    # Assumption is that orifice flow only, never weir flow.\n",
    "    # Need the following variables:\n",
    "    #   - Depth of water in upstream node (h1)\n",
    "    #   - Depth of water in downstream node (h2)\n",
    "    #   - Current weir setting (before changing the setting)\n",
    "    #   - Orifice Geometries\n",
    "    \n",
    "    g = 32.2 # gravity\n",
    "    \n",
    "    control_connects = controlDict[i]['pyswmmVar'].connections\n",
    "    upstream = nodes[control_connects[0]]\n",
    "    downstream = nodes[control_connect[1]]\n",
    "    \n",
    "    h1 = upstream.depth + upstream.invert_elevation\n",
    "    h2 = downstream.depth + downstream.invert_elevation\n",
    "    current_setting = controlDict[i]['pyswmmVar'].current_setting\n",
    "    \n",
    "    if controlDict[i]['shape'] == 'RECT_CLOSED':\n",
    "        current_height = current_setting * controlDict[i]['geom1']\n",
    "        h_midpt = (current_height / 2) + (upstream.invert_elevation + downstream.invert_elevation) / 2\n",
    "        \n",
    "        if h2 < h_midpt:\n",
    "            H = h1 - h_midpt\n",
    "            y = q_goal / (Cd * sympy.sqrt(2*g) * geom1 * geom2 )\n",
    "            y = controlDict[i]['q_goal'] / (controlDict[i]['Cd'] * sympy.sqrt(2*g) * controlDict[i]['geom1'] *controlDict[i]['geom2'])\n",
    "            \n",
    "            x = Symbol('x')\n",
    "            answer = solve(controlDict[i]['geom1']/2 * x**3 + h1 * x**2 - y**2)\n",
    "            \n",
    "            for number in answer:\n",
    "                if sympy.functions.re(number) > 0.0 and sympy.functions.re(number) < 1.0:\n",
    "                    controlDict[i]['action'] = sympy.functions.re(number)\n",
    "            # Solve following equation for target setting:\n",
    "            \n",
    "            # 0 = target_setting * sqrt(h1 - (geom1 * target_setting)/2) - q_goal / ( Cd * sqrt(2 * g) * geom1 * geom2)\n",
    "            \n",
    "            target_setting = min(target_setting, 1.0)\n",
    "            controlDict[i]['action'] = target_setting\n",
    "            \n",
    "        else:\n",
    "            H = h1 - h2\n",
    "            target_setting = q_goal / (Cd * sqrt(2 * g * H) * geom1 * geom2)\n",
    "            controlDict[i]['action'] = target_setting\n",
    "        \n",
    "    else:\n",
    "        # do something here with the other orifice and \n",
    "        pass"
   ]
  },
  {
   "cell_type": "code",
   "execution_count": 2,
   "metadata": {},
   "outputs": [],
   "source": [
    "from pyswmm import Links, Simulation, Nodes\n",
    "import sympy\n",
    "from sympy.solvers import solve\n",
    "from sympy import Symbol\n",
    "from pyswmm import Simulation, Links, Nodes\n",
    "\n",
    "import numpy as np"
   ]
  },
  {
   "cell_type": "code",
   "execution_count": 3,
   "metadata": {},
   "outputs": [],
   "source": [
    "geom1 = 10.5\n",
    "geom2 = 60.4\n",
    "q_goal = 5000.0\n",
    "h1 = 20.0\n",
    "h2 = 5.0\n",
    "Cd = 1.0\n",
    "g = 32.2\n",
    "\n",
    "x = Symbol('x')\n",
    "y = q_goal / (Cd * sympy.sqrt(2*g) * geom1 * geom2 )"
   ]
  },
  {
   "cell_type": "code",
   "execution_count": 4,
   "metadata": {},
   "outputs": [
    {
     "name": "stdout",
     "output_type": "stream",
     "text": [
      "Wall time: 98.7 ms\n"
     ]
    }
   ],
   "source": [
    "%%time\n",
    "answer = solve(geom1/2 * x**3 + h1 * x**2 - y**2)"
   ]
  },
  {
   "cell_type": "code",
   "execution_count": 5,
   "metadata": {},
   "outputs": [
    {
     "name": "stdout",
     "output_type": "stream",
     "text": [
      "[-3.79677077289511 + 0.e-21*I, -0.226515149007234 + 0.e-22*I, 0.21376211237853 - 0.e-22*I]\n"
     ]
    }
   ],
   "source": [
    "print(answer)"
   ]
  },
  {
   "cell_type": "code",
   "execution_count": 6,
   "metadata": {},
   "outputs": [
    {
     "name": "stdout",
     "output_type": "stream",
     "text": [
      "0.213762112378530\n"
     ]
    }
   ],
   "source": [
    "for number in answer:\n",
    "    if sympy.functions.re(number) > 0.0 and sympy.functions.re(number) < 1.0:\n",
    "        action = sympy.functions.re(number)\n",
    "    \n",
    "print(action)"
   ]
  },
  {
   "cell_type": "code",
   "execution_count": 7,
   "metadata": {},
   "outputs": [
    {
     "name": "stdout",
     "output_type": "stream",
     "text": [
      "0.253661877991086\n"
     ]
    }
   ],
   "source": [
    "target = q_goal / (Cd * sympy.sqrt(2 * g) * geom1 * geom2 * sympy.sqrt(h1 - h2) )\n",
    "print(target)"
   ]
  },
  {
   "cell_type": "code",
   "execution_count": 29,
   "metadata": {},
   "outputs": [],
   "source": [
    "CC_forebay = {}\n",
    "with Simulation('FirstHamilton_pruned_noUP.inp') as sim:\n",
    "    links = Links(sim)\n",
    "    nodes = Nodes(sim)\n",
    "    \n",
    "    CC_forebay['pyswmmVar'] = links['PUMP13@1700-1695']\n",
    "    CC_forebay['connections'] = links['PUMP13@1700-1695'].connections\n",
    "#     CC_forebay['upstream'] = nodes[CC_forebay['connections'][0]]\n",
    "#     CC_forebay['downstream'] = nodes[CC_forebay['connections'][1]]\n",
    "    \n",
    "#     up = nodes[CC_forebay['connections'][0]]\n",
    "#     down = nodes[CC_forebay['connections'][1]]\n",
    "    \n",
    "    \n",
    "    "
   ]
  },
  {
   "cell_type": "code",
   "execution_count": 30,
   "metadata": {},
   "outputs": [
    {
     "data": {
      "text/plain": [
       "{'connections': ('1700', '1695'),\n",
       " 'pyswmmVar': <pyswmm.links.Pump at 0x12a47b0>}"
      ]
     },
     "execution_count": 30,
     "metadata": {},
     "output_type": "execute_result"
    }
   ],
   "source": [
    "CC_forebay"
   ]
  },
  {
   "cell_type": "code",
   "execution_count": 22,
   "metadata": {},
   "outputs": [
    {
     "name": "stdout",
     "output_type": "stream",
     "text": [
      "0.11299504487248614\n"
     ]
    }
   ],
   "source": [
    "for i in answer:\n",
    "    if i < 1.0 and i > 0.0:\n",
    "        print(np.real(i))"
   ]
  },
  {
   "cell_type": "code",
   "execution_count": 16,
   "metadata": {},
   "outputs": [
    {
     "data": {
      "text/plain": [
       "False"
      ]
     },
     "execution_count": 16,
     "metadata": {},
     "output_type": "execute_result"
    }
   ],
   "source": [
    "np.allclose(0.0,0.0000001)"
   ]
  },
  {
   "cell_type": "code",
   "execution_count": 28,
   "metadata": {},
   "outputs": [
    {
     "data": {
      "text/plain": [
       "0.6250377436855489"
      ]
     },
     "execution_count": 28,
     "metadata": {},
     "output_type": "execute_result"
    }
   ],
   "source": [
    "np.random.random()"
   ]
  },
  {
   "cell_type": "code",
   "execution_count": null,
   "metadata": {},
   "outputs": [],
   "source": []
  }
 ],
 "metadata": {
  "kernelspec": {
   "display_name": "Python 3",
   "language": "python",
   "name": "python3"
  },
  "language_info": {
   "codemirror_mode": {
    "name": "ipython",
    "version": 3
   },
   "file_extension": ".py",
   "mimetype": "text/x-python",
   "name": "python",
   "nbconvert_exporter": "python",
   "pygments_lexer": "ipython3",
   "version": "3.6.4"
  }
 },
 "nbformat": 4,
 "nbformat_minor": 2
}
