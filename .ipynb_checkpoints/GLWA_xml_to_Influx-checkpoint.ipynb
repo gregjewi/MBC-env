{
 "cells": [
  {
   "cell_type": "code",
   "execution_count": 150,
   "metadata": {},
   "outputs": [],
   "source": [
    "import xmltodict as l\n",
    "from urllib.request import urlopen\n",
    "import datetime\n",
    "import pytz\n",
    "import influxdb"
   ]
  },
  {
   "cell_type": "code",
   "execution_count": 134,
   "metadata": {},
   "outputs": [],
   "source": [
    "def str_to_nano(timestr):\n",
    "    epoch0 = datetime.datetime(1970,1,1)\n",
    "    epoch0 = epoch0.replace(tzinfo = pytz.UTC)\n",
    "    \n",
    "    dt = datetime.datetime.strptime(timestr,'%m/%d/%y %H:%M')\n",
    "    # convert to UTC time\n",
    "    dt = dt + datetime.timedelta(hours=4)\n",
    "\n",
    "    return str(int((dt.replace(tzinfo = pytz.UTC) - epoch0).total_seconds()*1000000000))"
   ]
  },
  {
   "cell_type": "code",
   "execution_count": 135,
   "metadata": {},
   "outputs": [],
   "source": [
    "def format_for_influx(entry,flux_list):\n",
    "    timestr = entry['@READ_DT']\n",
    "    time_nano = str_to_nano(timestr)\n",
    "    \n",
    "    for site in entry['SITE']:\n",
    "        name = site['@NAME']\n",
    "        \n",
    "        for measure in site:\n",
    "            if measure =='@NAME':\n",
    "                pass\n",
    "            else:\n",
    "                measurement = site[measure]\n",
    "                measure_string = measure+',site='+name+' value='+measurement+' '+str_to_nano(timestr)\n",
    "                flux_list.append(measure_string)"
   ]
  },
  {
   "cell_type": "code",
   "execution_count": 148,
   "metadata": {},
   "outputs": [],
   "source": [
    "def write_to_infDB(flux_list):\n",
    "    host = 'data.open-storm.org'\n",
    "    port = 8086\n",
    "    username = 'glwa_daemon'\n",
    "    password = 'AttackStrawPebble'\n",
    "    database = 'GLWA'\n",
    "    influx_client = influxdb.InfluxDBClient(host=host, port=port, database=database,username=username, password=password)\n",
    "\n",
    "    try:\n",
    "        influx_client.write_points(flux_list,protocol='line')\n",
    "    except:\n",
    "        print('Error Writing to InfluxDB')"
   ]
  },
  {
   "cell_type": "code",
   "execution_count": 146,
   "metadata": {},
   "outputs": [],
   "source": [
    "file = urlopen('http://gdrss.glwater.org/xml/?FileName=UOFM.xml')\n",
    "data = file.read()\n",
    "file.close()\n",
    "\n",
    "data = l.parse(data)\n",
    "\n",
    "# list of ordered dictionaries\n",
    "# Each index is a timestep of measurements.\n",
    "data = data['DATA']['READ_DT']"
   ]
  },
  {
   "cell_type": "code",
   "execution_count": 149,
   "metadata": {},
   "outputs": [],
   "source": [
    "flux_list = []\n",
    "for entry in data:\n",
    "    format_for_influx(entry,flux_list)\n",
    "write_to_infDB(flux_list)"
   ]
  },
  {
   "cell_type": "code",
   "execution_count": 159,
   "metadata": {},
   "outputs": [],
   "source": [
    "host = 'data.open-storm.org'\n",
    "port = 8086\n",
    "username = 'glwa_daemon'\n",
    "password = 'AttackStrawPebble'\n",
    "database = 'GLWA'\n",
    "influx_client = influxdb.InfluxDBClient(host=host, port=port, database=database,username=username, password=password)\n",
    "\n",
    "a =influx_client.query(\"SELECT * FROM LVL\")"
   ]
  },
  {
   "cell_type": "code",
   "execution_count": 164,
   "metadata": {},
   "outputs": [
    {
     "ename": "AttributeError",
     "evalue": "'generator' object has no attribute 'keys'",
     "output_type": "error",
     "traceback": [
      "\u001b[1;31m---------------------------------------------------------------------------\u001b[0m",
      "\u001b[1;31mAttributeError\u001b[0m                            Traceback (most recent call last)",
      "\u001b[1;32m<ipython-input-164-accc9d93aac1>\u001b[0m in \u001b[0;36m<module>\u001b[1;34m()\u001b[0m\n\u001b[1;32m----> 1\u001b[1;33m \u001b[0ma\u001b[0m\u001b[1;33m[\u001b[0m\u001b[1;34m'LVL'\u001b[0m\u001b[1;33m]\u001b[0m\u001b[1;33m.\u001b[0m\u001b[0mkeys\u001b[0m\u001b[1;33m(\u001b[0m\u001b[1;33m)\u001b[0m\u001b[1;33m\u001b[0m\u001b[0m\n\u001b[0m",
      "\u001b[1;31mAttributeError\u001b[0m: 'generator' object has no attribute 'keys'"
     ]
    }
   ],
   "source": []
  },
  {
   "cell_type": "code",
   "execution_count": null,
   "metadata": {},
   "outputs": [],
   "source": []
  }
 ],
 "metadata": {
  "kernelspec": {
   "display_name": "Python 3",
   "language": "python",
   "name": "python3"
  },
  "language_info": {
   "codemirror_mode": {
    "name": "ipython",
    "version": 3
   },
   "file_extension": ".py",
   "mimetype": "text/x-python",
   "name": "python",
   "nbconvert_exporter": "python",
   "pygments_lexer": "ipython3",
   "version": "3.6.4"
  }
 },
 "nbformat": 4,
 "nbformat_minor": 2
}
