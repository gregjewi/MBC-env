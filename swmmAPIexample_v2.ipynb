{
 "cells": [
  {
   "cell_type": "code",
   "execution_count": 3,
   "metadata": {},
   "outputs": [],
   "source": [
    "import swmmAPI_v2 as sm\n",
    "from pyswmm import Simulation, Links, Nodes\n",
    "\n",
    "\n",
    "inpF = 'NoWestside_withISDs_RainEvents_NoControl.inp'\n",
    "outF = inpF[:-3]+'out'\n",
    "\n",
    "\n",
    "model = sm.swmmINP(inpF,offset=0.0)\n",
    "model.set_dicts()\n",
    "model.set_geo_dicts()"
   ]
  },
  {
   "cell_type": "code",
   "execution_count": null,
   "metadata": {},
   "outputs": [],
   "source": [
    "model.conduits\n",
    "model.junctions\n",
    "model.options"
   ]
  },
  {
   "cell_type": "code",
   "execution_count": 4,
   "metadata": {},
   "outputs": [
    {
     "name": "stdout",
     "output_type": "stream",
     "text": [
      "['Map', '__class__', '__delattr__', '__dict__', '__dir__', '__doc__', '__eq__', '__format__', '__ge__', '__getattribute__', '__gt__', '__hash__', '__init__', '__init_subclass__', '__le__', '__lt__', '__module__', '__ne__', '__new__', '__reduce__', '__reduce_ex__', '__repr__', '__setattr__', '__sizeof__', '__str__', '__subclasshook__', '__weakref__', '_min_slope', '_sections', 'args', 'calc_datum_conversion', 'calc_qfull', 'calc_slope', 'calc_storage_vol', 'conduits', 'controls', 'convert', 'coords', 'curves', 'evaporation', 'headers', 'infiltration', 'inflows', 'inpF', 'junctions', 'kwargs', 'losses', 'make_conduit_dictionary', 'make_controls_dict', 'make_coords_dict', 'make_curves_dictionary', 'make_evap_dict', 'make_infiltration_dict', 'make_inflows_dict', 'make_junction_dictionary', 'make_losses_dict', 'make_map_dict', 'make_options_dictionary', 'make_orifice_dictionary', 'make_outfall_dictionary', 'make_polygons_dict', 'make_pump_dictionary', 'make_raingauges_dict', 'make_sections', 'make_storage_dictionary', 'make_subcatchment_dictionary', 'make_timeseries_dict', 'make_verts_dict', 'offset', 'options', 'orifices', 'outfalls', 'polygons', 'pumps', 'raingauges', 'set_dicts', 'set_geo_dicts', 'set_kwargs', 'storages', 'subcatchments', 'timeseries', 'verts']\n"
     ]
    }
   ],
   "source": [
    "print(dir(model))"
   ]
  },
  {
   "cell_type": "code",
   "execution_count": null,
   "metadata": {},
   "outputs": [],
   "source": []
  },
  {
   "cell_type": "code",
   "execution_count": null,
   "metadata": {},
   "outputs": [],
   "source": []
  },
  {
   "cell_type": "code",
   "execution_count": null,
   "metadata": {},
   "outputs": [],
   "source": []
  },
  {
   "cell_type": "code",
   "execution_count": null,
   "metadata": {},
   "outputs": [],
   "source": []
  },
  {
   "cell_type": "code",
   "execution_count": 2,
   "metadata": {},
   "outputs": [],
   "source": [
    "def raingauges_from_subcatchment(subcatchmentDict,raingauges,rg_format,interval,SCF,source1):\n",
    "    for sub in subcatchmentDict:\n",
    "        subcatchmentDict[sub]['rain_gage'] = sub\n",
    "        \n",
    "        raingauges[sub] = {\n",
    "            'format' : rg_format,\n",
    "            'interval' : interval,\n",
    "            'SCF' : SCF,\n",
    "            'source1' : source1,\n",
    "            'source2' : sub\n",
    "        }"
   ]
  },
  {
   "cell_type": "code",
   "execution_count": 3,
   "metadata": {},
   "outputs": [],
   "source": [
    "def timeseries_from_raingauges(raingauges,timeseries):\n",
    "    for sub in subcatchmentDict:\n",
    "        try: \n",
    "            if timeseries[sub]:\n",
    "                pass\n",
    "#                 print(sub + ' exists')\n",
    "\n",
    "        except:\n",
    "            timeseries[sub] = {\n",
    "                'Date': [],\n",
    "                'Time': [],\n",
    "                'Value': [],\n",
    "            }\n",
    "\n",
    "def add_timeseries_info(timeseries,name,date,time,value):\n",
    "    timeseries[name]['Date'].append(date)\n",
    "    timeseries[name]['Time'].append(time)\n",
    "    timeseries[name]['Value'].append(value)"
   ]
  },
  {
   "cell_type": "code",
   "execution_count": 4,
   "metadata": {},
   "outputs": [],
   "source": [
    "raingauges_from_subcatchment(subcatchmentDict,raingauges,'INTENSITY',0.25,1.0,'TIMESERIES')\n",
    "timeseries_from_raingauges(raingauges,timeseries)"
   ]
  },
  {
   "cell_type": "code",
   "execution_count": 7,
   "metadata": {},
   "outputs": [],
   "source": [
    "for name in timeseries:\n",
    "    # Check on if the raingauge/timeseries is a direct link to the subcatchment\n",
    "    for i in range(0,5):\n",
    "        if name in subcatchmentDict.keys(): \n",
    "            # input specific values into the timeseries... incorporate other processes here.\n",
    "            date = ''\n",
    "            time = i * 0.25\n",
    "            value = i * 0.1\n",
    "            add_timeseries_info(timeseries,name,date,time,value)"
   ]
  },
  {
   "cell_type": "code",
   "execution_count": 9,
   "metadata": {},
   "outputs": [],
   "source": [
    "def write_timeseries(timeseries,sublist):\n",
    "    with open('timeseries.txt','w') as f:\n",
    "        f.write('[TIMESERIES]\\n')\n",
    "        f.write(';;Name           Date       Time       Value     \\n')\n",
    "        f.write(';;-------------- ---------- ---------- ----------\\n')\n",
    "        \n",
    "        for ts in timeseries:\n",
    "            if ts in sublist:\n",
    "                wrt = timeseries[ts]\n",
    "                for d,t,v in zip(wrt['Date'],wrt['Time'],wrt['Value']):\n",
    "                    f.write(ts + '\\t \\t' + str(d) + '\\t \\t' + str(t) + '\\t \\t' + str(v) + '\\n')\n",
    "                    \n",
    "                f.write(';\\n')\n",
    "    f.close()"
   ]
  },
  {
   "cell_type": "code",
   "execution_count": 23,
   "metadata": {},
   "outputs": [],
   "source": [
    "def write_raingauges(raingauges,sublist):\n",
    "    with open('raingauges.txt','w') as f:\n",
    "        f.write('[RAINGAGES]\\n')\n",
    "        f.write(';;Name           Format    Interval SCF      Source \\n')\n",
    "        f.write(';;-------------- --------- ------ ------ ----------\\n')\n",
    "        \n",
    "        for gage in raingauges:\n",
    "            if gage in sublist:\n",
    "                rg = raingauges[gage]\n",
    "                f.write(gage + '\\t\\t\\t' + str(rg['format']) + '\\t' + str(rg['interval']) + '\\t' + str(rg['SCF']) + '\\t' + str(rg['source1']) + '\\t' + str(rg['source2']) + '\\n')"
   ]
  },
  {
   "cell_type": "code",
   "execution_count": 39,
   "metadata": {},
   "outputs": [],
   "source": [
    "def write_subcatchments(subcatchmentDict):\n",
    "    with open('subcatchments.txt','w') as f:\n",
    "        f.write('[SUBCATCHMENTS]\\n')\n",
    "        f.write(';;Name           Rain Gage        Outlet           Area     %Imperv  Width    %Slope   CurbLen  SnowPack\\n')\n",
    "        f.write(';;-------------- ---------------- ---------------- -------- -------- -------- -------- -------- ----------------\\n')\n",
    "        \n",
    "        for sub in subcatchmentDict:\n",
    "            s = subcatchmentDict[sub]\n",
    "            f.write(sub + '\\t\\t' + s['rain_gage'] + '\\t\\t' + s['outlet'] + '\\t\\t' + str(s['area']) + '\\t' + str(s['per_imperv']) + '\\t' + str(s['width']) + '\\t' + str(s['slope']) + '\\t' + str(s['curblen']) + '\\n')\n",
    "        "
   ]
  },
  {
   "cell_type": "code",
   "execution_count": 5,
   "metadata": {},
   "outputs": [],
   "source": [
    "from pyproj import Proj, transform\n",
    "from shapely.geometry import Polygon\n",
    "from descartes import PolygonPatch\n",
    "\n",
    "inputEPSG = Proj(init='epsg:6498')\n",
    "outputEPSG = Proj(init='epsg:4326') # WGS84\n",
    "\n",
    "for key in polygons:\n",
    "    polygons[key]['lat'] = []\n",
    "    polygons[key]['lon'] = []\n",
    "    polygons[key]['shapely'] = []\n",
    "    for x,y in zip(polygons[key]['x'],polygons[key]['y']):\n",
    "        lat,lon = transform(inputEPSG,outputEPSG,x,y)\n",
    "        \n",
    "        polygons[key]['lat'].append(lat)\n",
    "        polygons[key]['lon'].append(lon)\n",
    "        polygons[key]['shapely'].append((lat,lon))\n",
    "    \n",
    "    polygons[key]['polygon'] = Polygon(polygons[key]['shapely']) "
   ]
  },
  {
   "cell_type": "code",
   "execution_count": 3,
   "metadata": {},
   "outputs": [],
   "source": [
    "import pickle\n",
    "\n",
    "pickleOut = 'NoWestide_geo.p'\n",
    "\n",
    "saveDict = {\n",
    "    'polygons': polygons,\n",
    "    'coords' : coords,\n",
    "    'maps' : maps,\n",
    "    'verts' : verts,\n",
    "}\n",
    "\n",
    "with open(pickleOut,'wb') as f:\n",
    "    pickle.dump(saveDict,f)"
   ]
  },
  {
   "cell_type": "code",
   "execution_count": 25,
   "metadata": {},
   "outputs": [
    {
     "data": {
      "text/plain": [
       "(-83.21442564842441, 42.504508896212506, -83.11112529164289, 42.56078390964576)"
      ]
     },
     "execution_count": 25,
     "metadata": {},
     "output_type": "execute_result"
    }
   ],
   "source": [
    "shape = Polygon(polygons[key]['shapely'])\n",
    "shape.bounds"
   ]
  },
  {
   "cell_type": "code",
   "execution_count": null,
   "metadata": {},
   "outputs": [],
   "source": []
  }
 ],
 "metadata": {
  "kernelspec": {
   "display_name": "Python 3",
   "language": "python",
   "name": "python3"
  },
  "language_info": {
   "codemirror_mode": {
    "name": "ipython",
    "version": 3
   },
   "file_extension": ".py",
   "mimetype": "text/x-python",
   "name": "python",
   "nbconvert_exporter": "python",
   "pygments_lexer": "ipython3",
   "version": "3.6.5"
  }
 },
 "nbformat": 4,
 "nbformat_minor": 2
}
