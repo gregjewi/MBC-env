{
 "cells": [
  {
   "cell_type": "code",
   "execution_count": 1,
   "metadata": {},
   "outputs": [],
   "source": [
    "import swmmAPI as swmm\n",
    "\n",
    "headers = [\n",
    "    '[TITLE]',\n",
    "    '[OPTIONS]',\n",
    "    '[EVAPORATION]',\n",
    "    '[RAINGAGES]',\n",
    "    '[SUBCATCHMENTS]',\n",
    "    '[SUBAREAS]',\n",
    "    '[INFILTRATION]',\n",
    "    '[JUNCTIONS]',\n",
    "    '[OUTFALLS]',\n",
    "    '[STORAGE]',\n",
    "    '[CONDUITS]',\n",
    "    '[PUMPS]',\n",
    "    '[ORIFICES]',\n",
    "    '[WEIRS]',\n",
    "    '[XSECTIONS]',\n",
    "    '[LOSSES]',\n",
    "    '[CONTROLS]',\n",
    "    '[INFLOWS]',\n",
    "    '[DWF]',\n",
    "    '[HYDROGRAPHS]',\n",
    "    '[RDII]',\n",
    "    '[CURVES]',\n",
    "    '[TIMESERIES]',\n",
    "    '[PATTERNS]',\n",
    "    '[REPORT]',\n",
    "    '[TAGS]',\n",
    "    '[MAP]',\n",
    "    '[COORDINATES]',\n",
    "    '[VERTICES]',\n",
    "    '[POLYGONS]',\n",
    "    '[SYMBOLS]',\n",
    "    '[PROFILES]'\n",
    "]\n",
    "\n",
    "inpF = 'NoWestside_withISDs_RainEvents.inp'\n",
    "\n",
    "sections = swmm.make_sections(inpF,headers)\n",
    "conduitDict,junctionDict,storageDict,subcatchmentDict,outfallDict,orificeDict,curvesDict,pumpDict,optionsDict = swmm.prep_dicts(sections)"
   ]
  },
  {
   "cell_type": "code",
   "execution_count": null,
   "metadata": {},
   "outputs": [],
   "source": []
  }
 ],
 "metadata": {
  "kernelspec": {
   "display_name": "Python 3",
   "language": "python",
   "name": "python3"
  },
  "language_info": {
   "codemirror_mode": {
    "name": "ipython",
    "version": 3
   },
   "file_extension": ".py",
   "mimetype": "text/x-python",
   "name": "python",
   "nbconvert_exporter": "python",
   "pygments_lexer": "ipython3",
   "version": "3.6.5"
  }
 },
 "nbformat": 4,
 "nbformat_minor": 2
}
