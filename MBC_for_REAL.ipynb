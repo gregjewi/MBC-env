{
 "cells": [
  {
   "cell_type": "code",
   "execution_count": 1,
   "metadata": {},
   "outputs": [],
   "source": [
    "from collections import OrderedDict\n",
    "import swmmAPImini as sm\n",
    "import mbc"
   ]
  },
  {
   "cell_type": "markdown",
   "metadata": {},
   "source": [
    "SWMM Input File"
   ]
  },
  {
   "cell_type": "code",
   "execution_count": 2,
   "metadata": {},
   "outputs": [],
   "source": [
    "swmmINP = 'NoWestside_withISDs_RainEvents.inp'\n",
    "simNotes = ['setpoint 5 lower weight on forebay, 900 sec time step']"
   ]
  },
  {
   "cell_type": "markdown",
   "metadata": {},
   "source": [
    "Save Your Shit"
   ]
  },
  {
   "cell_type": "code",
   "execution_count": 3,
   "metadata": {},
   "outputs": [],
   "source": [
    "pickleOut = 'orifice_qaqc_7.p'\n",
    "metaCSV = 'CC_FV_FREUD_meta.csv'"
   ]
  },
  {
   "cell_type": "markdown",
   "metadata": {},
   "source": [
    "Read Control Points from CSV files\n",
    "CSV files are the files that should be changed"
   ]
  },
  {
   "cell_type": "code",
   "execution_count": 4,
   "metadata": {},
   "outputs": [],
   "source": [
    "cF = 'input_files/ControlPoints_Init_CC_FV_FREUD.csv'\n",
    "uF = 'input_files/Upstream_Init_CC_FV_FREUD.csv'\n",
    "dF = 'input_files/Downstream_Init_CC_FV_FREUD.csv'\n",
    "pF = 'input_files/PerformancePoints_Init.csv' # Elements of interest in SWMM to analyze performance\n",
    "\n",
    "controlDict = sm.return_inputs(cF,'control')\n",
    "upstreamDict = sm.return_inputs(uF,'upstream')\n",
    "downstreamDict = sm.return_inputs(dF,'downstream')\n",
    "performanceDict = sm.return_inputs(pF,'performance')\n",
    "dsKeys = list(downstreamDict.keys())"
   ]
  },
  {
   "cell_type": "code",
   "execution_count": 5,
   "metadata": {},
   "outputs": [],
   "source": [
    "# With or without control?\n",
    "control = True"
   ]
  },
  {
   "cell_type": "markdown",
   "metadata": {},
   "source": [
    "Process swmm elements into a dictionary. Change txt element files within swmmAPImini.py"
   ]
  },
  {
   "cell_type": "code",
   "execution_count": 6,
   "metadata": {},
   "outputs": [],
   "source": [
    "conduits,nodes,storages,subcatchments,outfalls,orifices,pumps = sm.make_element_dictionaries()"
   ]
  },
  {
   "cell_type": "code",
   "execution_count": null,
   "metadata": {},
   "outputs": [],
   "source": []
  },
  {
   "cell_type": "markdown",
   "metadata": {},
   "source": [
    "Get depth and flow information from swmm element dictionaries"
   ]
  },
  {
   "cell_type": "code",
   "execution_count": 7,
   "metadata": {},
   "outputs": [],
   "source": [
    "sm.get_depth(upstreamDict,conduits,storages)\n",
    "sm.get_depth(downstreamDict,conduits,storages)\n",
    "sm.get_q_full_and_other(downstreamDict,conduits,storages)\n",
    "sm.orifice_xsect_grab(controlDict,orifices)\n",
    "sm.pump_curve_grab(controlDict,pumps)\n",
    "\n",
    "timestep = sm.get_timestep(swmmINP)\n",
    "\n",
    "sm.performance_elements(performanceDict,conduits,nodes,storages,subcatchments,outfalls,orifices)\n",
    "dsKeys = list(downstreamDict.keys())"
   ]
  },
  {
   "cell_type": "code",
   "execution_count": 8,
   "metadata": {},
   "outputs": [
    {
     "data": {
      "text/plain": [
       "OrderedDict([('2909',\n",
       "              OrderedDict([('type', 'storage'),\n",
       "                           ('measure', 'depth'),\n",
       "                           ('epsilon', 10),\n",
       "                           ('gamma', 0),\n",
       "                           ('max_depth', 34.0),\n",
       "                           ('set_point', 5),\n",
       "                           ('set_derivative', 0),\n",
       "                           ('location', 'CC RTB'),\n",
       "                           ('ts_flow', []),\n",
       "                           ('ts_depth', []),\n",
       "                           ('total_storage', 6529421.199999999)]))])"
      ]
     },
     "execution_count": 8,
     "metadata": {},
     "output_type": "execute_result"
    }
   ],
   "source": [
    "downstreamDict"
   ]
  },
  {
   "cell_type": "markdown",
   "metadata": {},
   "source": [
    "Variable Management"
   ]
  },
  {
   "cell_type": "code",
   "execution_count": 9,
   "metadata": {},
   "outputs": [],
   "source": [
    "try:\n",
    "    del conduits\n",
    "    del nodes\n",
    "    del storages\n",
    "    del subcatchments\n",
    "    del outfalls\n",
    "except:\n",
    "    pass"
   ]
  },
  {
   "cell_type": "code",
   "execution_count": 10,
   "metadata": {},
   "outputs": [],
   "source": [
    "downstreamDict[dsKeys[0]]['max_flow'] = 1.0"
   ]
  },
  {
   "cell_type": "code",
   "execution_count": 11,
   "metadata": {},
   "outputs": [
    {
     "name": "stdout",
     "output_type": "stream",
     "text": [
      "running simulation...\n",
      "done ...\n",
      "Wall time: 50min 51s\n"
     ]
    }
   ],
   "source": [
    "%%time\n",
    "if control:\n",
    "    price, PDemand = mbc.run_control_sim(controlDict,upstreamDict,downstreamDict,dsKeys,swmmINP,performanceDict,timestep)\n",
    "else:\n",
    "    mbc.run_no_control_sim(controlDict,upstreamDict,downstreamDict,dsKeys,swmmINP,performanceDict)"
   ]
  },
  {
   "cell_type": "markdown",
   "metadata": {},
   "source": [
    "# Save That Shit"
   ]
  },
  {
   "cell_type": "code",
   "execution_count": 12,
   "metadata": {},
   "outputs": [],
   "source": [
    "saveDict = {\n",
    "    'controlDict':controlDict,\n",
    "    'upstreamDict':upstreamDict,\n",
    "    'downstreamDict':downstreamDict,\n",
    "    'metaCSV':metaCSV,\n",
    "    'pickleOut':pickleOut,\n",
    "    'notes':simNotes,\n",
    "    'file':swmmINP,\n",
    "    'control':str(control),\n",
    "    'performanceDict':performanceDict\n",
    "}\n",
    "\n",
    "try:\n",
    "    saveDict['price'] = price\n",
    "    saveDict['PDemand'] = PDemand\n",
    "except:\n",
    "    pass\n",
    "\n",
    "mbc.save_that_shit(saveDict)"
   ]
  },
  {
   "cell_type": "markdown",
   "metadata": {},
   "source": [
    "# Visualize That Shit"
   ]
  },
  {
   "cell_type": "code",
   "execution_count": null,
   "metadata": {},
   "outputs": [],
   "source": []
  },
  {
   "cell_type": "code",
   "execution_count": 13,
   "metadata": {},
   "outputs": [],
   "source": [
    "import pickle\n",
    "%matplotlib inline\n",
    "f_nocontrol = 'orifice_qaqc_7.p'\n",
    "f_control = 'orifice_qaqc_6.p'\n",
    "figname = 'OrificeQaQc.png'"
   ]
  },
  {
   "cell_type": "code",
   "execution_count": 14,
   "metadata": {},
   "outputs": [
    {
     "data": {
      "image/png": "[encoded data removed]",
      "text/plain": [
       "<matplotlib.figure.Figure at 0x717c570>"
      ]
     },
     "metadata": {},
     "output_type": "display_data"
    }
   ],
   "source": [
    "mbc.viz_shit(f_nocontrol,f_control,figname)"
   ]
  },
  {
   "cell_type": "code",
   "execution_count": 21,
   "metadata": {},
   "outputs": [
    {
     "data": {
      "text/plain": [
       "odict_keys(['type', 'USasset', 'action', 'actionTS', 'q_goal', 'from_node', 'to_node', 'offset', 'Cd', 'gated', 'close_time', 'shape', 'geom1', 'geom2', 'geom3', 'geom4'])"
      ]
     },
     "execution_count": 21,
     "metadata": {},
     "output_type": "execute_result"
    }
   ],
   "source": [
    "controlDict['ORIFICE33@17312-17313'].keys()"
   ]
  },
  {
   "cell_type": "code",
   "execution_count": 13,
   "metadata": {},
   "outputs": [],
   "source": [
    "import matplotlib.pyplot as plt"
   ]
  },
  {
   "cell_type": "code",
   "execution_count": null,
   "metadata": {},
   "outputs": [],
   "source": []
  },
  {
   "cell_type": "code",
   "execution_count": 16,
   "metadata": {},
   "outputs": [
    {
     "data": {
      "text/plain": [
       "odict_keys(['1002', '200', '100', '1686', '2908'])"
      ]
     },
     "execution_count": 16,
     "metadata": {},
     "output_type": "execute_result"
    }
   ],
   "source": [
    "with open('orifice_qaqc_1.p','rb') as f:\n",
    "    qa1 = pickle.load(f)\n",
    "    \n",
    "performanceDict = qa1['performanceDict']\n",
    "performanceDict.keys()"
   ]
  },
  {
   "cell_type": "code",
   "execution_count": 19,
   "metadata": {},
   "outputs": [
    {
     "data": {
      "text/plain": [
       "OrderedDict([('type', 'node'), ('ts_flow', []), ('ts_depth', [])])"
      ]
     },
     "execution_count": 19,
     "metadata": {},
     "output_type": "execute_result"
    }
   ],
   "source": []
  },
  {
   "cell_type": "code",
   "execution_count": 12,
   "metadata": {},
   "outputs": [
    {
     "data": {
      "text/plain": [
       "OrderedDict([('type', 'outfall'),\n",
       "             ('ts_flow',\n",
       "              [0.0,\n",
       "               0.0,\n",
       "               0.0,\n",
       "               0.0,\n",
       "               0.0,\n",
       "               0.0,\n",
       "               0.0,\n",
       "               0.0,\n",
       "               0.0,\n",
       "               0.0,\n",
       "               0.0,\n",
       "               0.0,\n",
       "               0.0,\n",
       "               0.0,\n",
       "               0.0,\n",
       "               0.0,\n",
       "               0.0,\n",
       "               0.0,\n",
       "               0.0,\n",
       "               0.0,\n",
       "               0.0,\n",
       "               0.0,\n",
       "               0.0,\n",
       "               0.0,\n",
       "               0.0,\n",
       "               0.0,\n",
       "               0.0,\n",
       "               0.0,\n",
       "               0.0,\n",
       "               0.0,\n",
       "               0.0,\n",
       "               0.0,\n",
       "               0.0,\n",
       "               0.0,\n",
       "               0.0,\n",
       "               0.0,\n",
       "               0.0,\n",
       "               0.0,\n",
       "               0.0,\n",
       "               0.0,\n",
       "               0.0,\n",
       "               0.0,\n",
       "               0.0,\n",
       "               0.0,\n",
       "               0.0,\n",
       "               0.0,\n",
       "               0.0,\n",
       "               0.0,\n",
       "               0.0,\n",
       "               0.0,\n",
       "               0.0,\n",
       "               0.0,\n",
       "               0.0,\n",
       "               0.0,\n",
       "               0.0,\n",
       "               0.0,\n",
       "               0.0,\n",
       "               0.0,\n",
       "               0.0,\n",
       "               0.0,\n",
       "               0.0,\n",
       "               0.0,\n",
       "               0.0,\n",
       "               0.0,\n",
       "               0.0,\n",
       "               0.0,\n",
       "               0.0,\n",
       "               0.0,\n",
       "               0.0,\n",
       "               0.0,\n",
       "               0.0,\n",
       "               0.0,\n",
       "               0.0,\n",
       "               0.0,\n",
       "               0.0,\n",
       "               0.0,\n",
       "               0.0]),\n",
       "             ('ts_depth', []),\n",
       "             ('elevation', 577.56),\n",
       "             ('elev_detroit', 97.80499999999995),\n",
       "             ('pyswmmVar', <pyswmm.nodes.Outfall at 0x8ba0bb0>)])"
      ]
     },
     "execution_count": 12,
     "metadata": {},
     "output_type": "execute_result"
    }
   ],
   "source": [
    "# performanceDict['2908']"
   ]
  },
  {
   "cell_type": "code",
   "execution_count": 20,
   "metadata": {},
   "outputs": [],
   "source": [
    "# def mbc(ustream, dstream, setpts, uparam, dparam, n_tanks, action):\n",
    "#     p = (sum(uparam*ustream) + sum(dparam*(dstream-setpts)))/(1 + n_tanks)\n",
    "#     PD = np.zeros(n_tanks)\n",
    "#     for i in range(0,n_tanks):\n",
    "#         PD[i] = max(-p + uparam[i]*ustream[i],0)\n",
    "#     PS = sum(PD)\n",
    "#     for i in range(0,n_tanks):\n",
    "#         if PS == 0:\n",
    "#             Qi = 0\n",
    "#         else:\n",
    "#             Qi = PD[i]/PS*setpts[0] # setpts[0] assumed to be downstream flow setpoint\n",
    "# #             Qi = sum(PD[0:i+1])/PS*setpts[0] # setpts[0] assumed to be downstream flow setpoint\n",
    "#         if ustream[i] == 0:\n",
    "#             action[i] = 0.5\n",
    "#         else:\n",
    "#             h2i = Qi/(1.0*1*np.sqrt(2*9.81*ustream[i]))\n",
    "# #             h2i = Qi/(0.61*1*np.sqrt(2*9.81*ustream[i]))\n",
    "#             action[i] = max(min(h2i/2,1.0),0.0)\n",
    "# #         if ustream[i] > 0.95:\n",
    "# #             action[i] = 1.0\n",
    "\n",
    "#     return p, PD, PS, action"
   ]
  },
  {
   "cell_type": "code",
   "execution_count": 22,
   "metadata": {},
   "outputs": [
    {
     "name": "stdout",
     "output_type": "stream",
     "text": [
      "done ...\n"
     ]
    }
   ],
   "source": [
    "# with Simulation('FirstHamilton_pruned_noUP.inp') as sim:\n",
    "#     start = sim.start_time\n",
    "#     end = sim.end_time\n",
    "#     freq = '12s'\n",
    "#     timesteps = pd.date_range(start,end,freq=freq)\n",
    "#     price = []\n",
    "#     PDemand = []\n",
    "    \n",
    "#     nodes = Nodes(sim)\n",
    "#     links = Links(sim)\n",
    "    \n",
    "#     for point in controlDict:\n",
    "#         controlDict[point]['pyswmmVar'] = links[point]\n",
    "#     for point in upstreamDict:\n",
    "#         upstreamDict[point]['pyswmmVar'] = links[point]\n",
    "#     for point in downstreamDict:\n",
    "#         downstreamDict[point]['pyswmmVar'] = links[point]\n",
    "        \n",
    "#     # These currently don't change per timestep. That is a possibility though\n",
    "#     setpts = np.array([downstreamDict[dsKeys[0]]['set_point'],downstreamDict[dsKeys[0]]['set_derivative']])\n",
    "#     uparam = np.array([1.0,0.1,0.1,0.1,0.1]) #for now make it a scalar... can diversify if needed once we want to prioritize upstream links above others\n",
    "#     dparam = [downstreamDict[dsKeys[0]]['epsilon'],downstreamDict[dsKeys[0]]['gamma']]\n",
    "#     n_tanks = len(upstreamDict)\n",
    "        \n",
    "#     print('entering simulation')\n",
    "#     for step in sim:\n",
    "#         for point in upstreamDict:\n",
    "#             upstreamDict[point]['ts'].append(upstreamDict[point]['pyswmmVar'].depth / upstreamDict[point]['max_depth'])\n",
    "#         for point,i in zip(downstreamDict,range(0,len(downstreamDict))):\n",
    "#             downstreamDict[point]['ts_flow'].append(downstreamDict[point]['pyswmmVar'].flow / downstreamDict[point]['max_flow'])\n",
    "#             downstreamDict[point]['ts_depth'].append(downstreamDict[point]['pyswmmVar'].depth / downstreamDict[point]['max_depth'])\n",
    "        \n",
    "#         ustream = np.array([upstreamDict[i]['ts'][-1] for i in upstreamDict])\n",
    "#         try:\n",
    "#             dstream = np.array([downstreamDict[dsKeys[0]]['ts_flow'][-1],downstreamDict[dsKeys[0]]['ts_flow'][-1]-downstreamDict[dsKeys[0]]['ts_flow'][-2]])\n",
    "#         except:\n",
    "#             dstream = np.array([downstreamDict[dsKeys[0]]['ts_flow'][-1],0])\n",
    "        \n",
    "#         n_tanks = len(upstreamDict)\n",
    "#         action = [controlDict[i]['action'] for i in controlDict]\n",
    "        \n",
    "#         p, PD, PS, action = mbc(ustream, dstream, setpts, uparam, dparam, n_tanks, action)\n",
    "        \n",
    "#         PDemand.append(PD)\n",
    "#         price.append(p)\n",
    "        \n",
    "#         for point,i in zip(controlDict,range(0,len(action))):\n",
    "#             controlDict[point]['pyswmmVar'].target_setting = action[i]\n",
    "#             controlDict[point]['actionTS'].append(action[i])\n",
    "            \n",
    "# print('done ...')"
   ]
  }
 ],
 "metadata": {
  "kernelspec": {
   "display_name": "Python 3",
   "language": "python",
   "name": "python3"
  },
  "language_info": {
   "codemirror_mode": {
    "name": "ipython",
    "version": 3
   },
   "file_extension": ".py",
   "mimetype": "text/x-python",
   "name": "python",
   "nbconvert_exporter": "python",
   "pygments_lexer": "ipython3",
   "version": "3.6.4"
  }
 },
 "nbformat": 4,
 "nbformat_minor": 2
}
